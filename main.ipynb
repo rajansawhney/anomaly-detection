{
 "cells": [
  {
   "cell_type": "code",
   "execution_count": 6,
   "id": "d561f98d-ff20-4935-93f0-49fbca6bf8bf",
   "metadata": {},
   "outputs": [
    {
     "name": "stdout",
     "output_type": "stream",
     "text": [
      "Defaulting to user installation because normal site-packages is not writeable\n",
      "Collecting seaborn\n",
      "  Downloading seaborn-0.11.2-py3-none-any.whl (292 kB)\n",
      "\u001b[2K     \u001b[90m━━━━━━━━━━━━━━━━━━━━━━━━━━━━━━━━━━━━━━━\u001b[0m \u001b[32m292.8/292.8 KB\u001b[0m \u001b[31m2.7 MB/s\u001b[0m eta \u001b[36m0:00:00\u001b[0ma \u001b[36m0:00:01\u001b[0m\n",
      "\u001b[?25hRequirement already satisfied: numpy>=1.15 in /usr/local/lib/python3.8/dist-packages (from seaborn) (1.21.1)\n",
      "Requirement already satisfied: scipy>=1.0 in /home/rsawhney/.local/lib/python3.8/site-packages (from seaborn) (1.8.1)\n",
      "Requirement already satisfied: pandas>=0.23 in /usr/local/lib/python3.8/dist-packages (from seaborn) (1.3.0)\n",
      "Requirement already satisfied: matplotlib>=2.2 in /home/rsawhney/.local/lib/python3.8/site-packages (from seaborn) (3.5.2)\n",
      "Requirement already satisfied: kiwisolver>=1.0.1 in /home/rsawhney/.local/lib/python3.8/site-packages (from matplotlib>=2.2->seaborn) (1.4.2)\n",
      "Requirement already satisfied: cycler>=0.10 in /home/rsawhney/.local/lib/python3.8/site-packages (from matplotlib>=2.2->seaborn) (0.11.0)\n",
      "Requirement already satisfied: fonttools>=4.22.0 in /home/rsawhney/.local/lib/python3.8/site-packages (from matplotlib>=2.2->seaborn) (4.33.3)\n",
      "Requirement already satisfied: pillow>=6.2.0 in /home/rsawhney/.local/lib/python3.8/site-packages (from matplotlib>=2.2->seaborn) (9.1.1)\n",
      "Requirement already satisfied: python-dateutil>=2.7 in /usr/local/lib/python3.8/dist-packages (from matplotlib>=2.2->seaborn) (2.8.2)\n",
      "Requirement already satisfied: packaging>=20.0 in /usr/local/lib/python3.8/dist-packages (from matplotlib>=2.2->seaborn) (21.3)\n",
      "Requirement already satisfied: pyparsing>=2.2.1 in /usr/local/lib/python3.8/dist-packages (from matplotlib>=2.2->seaborn) (3.0.7)\n",
      "Requirement already satisfied: pytz>=2017.3 in /usr/local/lib/python3.8/dist-packages (from pandas>=0.23->seaborn) (2021.3)\n",
      "Requirement already satisfied: six>=1.5 in /usr/local/lib/python3.8/dist-packages (from python-dateutil>=2.7->matplotlib>=2.2->seaborn) (1.16.0)\n",
      "Installing collected packages: seaborn\n",
      "Successfully installed seaborn-0.11.2\n",
      "\u001b[33mWARNING: You are using pip version 22.0.2; however, version 22.1.1 is available.\n",
      "You should consider upgrading via the '/usr/bin/python3 -m pip install --upgrade pip' command.\u001b[0m\u001b[33m\n",
      "\u001b[0m"
     ]
    }
   ],
   "source": [
    "!pip install --proxy http://proxy-dmz.intel.com:911/ seaborn\n"
   ]
  },
  {
   "cell_type": "code",
   "execution_count": 7,
   "id": "81b99e7f-be92-490e-bd78-2c2dea9b4ff8",
   "metadata": {},
   "outputs": [],
   "source": [
    "import numpy as np\n",
    "import scipy.io as sio # for reading matlab files\n",
    "import pathlib\n",
    "from pathlib import Path\n",
    "import pandas as pd\n",
    "import matplotlib.pyplot as plt\n",
    "import seaborn as sns\n",
    "import os\n",
    "import zipfile\n",
    "\n",
    "%matplotlib inline"
   ]
  },
  {
   "cell_type": "code",
   "execution_count": 11,
   "id": "81aac651-a6f0-477a-8dab-26e6afce2001",
   "metadata": {},
   "outputs": [],
   "source": [
    "root_dir = Path.cwd() # set the root directory as a Pathlib path\n",
    "# data_dir = f'{root_dir}/data'\n",
    "data_dir = root_dir / 'data/'\n",
    "folder_raw_data = data_dir / 'raw_milling_uc_berkeley' # raw data folder that holds the .zip .mat files for milling data\n",
    "folder_processed_data = data_dir / 'processed_milling_uc_berkeley/' # processed data folder\n",
    "working_folder = data_dir / 'dev' # working folder\n",
    "# folder_raw_data = f'{data_dir}/raw_milling_uc_berkeley/' # raw data folder that holds the .zip .mat files for milling data\n",
    "# folder_processed_data = f'{data_dir}/processed_milling_uc_berkeley/'# processed data folder\n",
    "# working_folder = f'{root_dir}/dev' # working folder"
   ]
  },
  {
   "cell_type": "code",
   "execution_count": 13,
   "id": "6046e1d7-7fe0-4ef1-9479-2116e48e7db9",
   "metadata": {},
   "outputs": [],
   "source": [
    "# if the the raw data folder does not exist, then you are likely\n",
    "# in a google colab environment. In that case, we will create the \n",
    "# raw data and processed data folders and download the appropriate\n",
    "# files"
   ]
  },
  {
   "cell_type": "code",
   "execution_count": 12,
   "id": "3ffc8796-9481-4647-914b-9c75b1a984ef",
   "metadata": {},
   "outputs": [
    {
     "name": "stdout",
     "output_type": "stream",
     "text": [
      "--2022-05-24 21:53:10--  https://github.com/tvhahn/Manufacturing-Data-Science-with-Python/raw/master/Data%20Sets/milling_uc_berkeley/raw/mill.zip\n",
      "Resolving proxy-dmz.intel.com (proxy-dmz.intel.com)... 10.7.211.16\n",
      "Connecting to proxy-dmz.intel.com (proxy-dmz.intel.com)|10.7.211.16|:912... connected.\n",
      "Proxy request sent, awaiting response... 302 Found\n",
      "Location: https://raw.githubusercontent.com/tvhahn/Manufacturing-Data-Science-with-Python/master/Data%20Sets/milling_uc_berkeley/raw/mill.zip [following]\n",
      "--2022-05-24 21:53:10--  https://raw.githubusercontent.com/tvhahn/Manufacturing-Data-Science-with-Python/master/Data%20Sets/milling_uc_berkeley/raw/mill.zip\n",
      "Connecting to proxy-dmz.intel.com (proxy-dmz.intel.com)|10.7.211.16|:912... connected.\n",
      "Proxy request sent, awaiting response... 200 OK\n",
      "Length: 15140674 (14M) [application/zip]\n",
      "Saving to: ‘mill.zip’\n",
      "\n",
      "mill.zip            100%[===================>]  14.44M  9.85MB/s    in 1.5s    \n",
      "\n",
      "2022-05-24 21:53:13 (9.85 MB/s) - ‘mill.zip’ saved [15140674/15140674]\n",
      "\n"
     ]
    }
   ],
   "source": [
    "if folder_raw_data.exists() == False:\n",
    "\n",
    "    pathlib.Path(folder_raw_data).mkdir(parents=True, exist_ok=True)\n",
    "    os.chdir(folder_raw_data)\n",
    "    !wget 'https://github.com/tvhahn/Manufacturing-Data-Science-with-Python/raw/master/Data%20Sets/milling_uc_berkeley/raw/mill.zip'"
   ]
  },
  {
   "cell_type": "code",
   "execution_count": 14,
   "id": "8dde99be-ae8c-4809-8df6-be3ada90bd9b",
   "metadata": {},
   "outputs": [
    {
     "name": "stdout",
     "output_type": "stream",
     "text": [
      "--2022-05-24 21:53:57--  https://raw.githubusercontent.com/tvhahn/Manufacturing-Data-Science-with-Python/master/Data%20Sets/milling_uc_berkeley/processed/labels_with_tool_class.csv\n",
      "Resolving proxy-dmz.intel.com (proxy-dmz.intel.com)... 10.7.211.16\n",
      "Connecting to proxy-dmz.intel.com (proxy-dmz.intel.com)|10.7.211.16|:912... connected.\n",
      "Proxy request sent, awaiting response... 200 OK\n",
      "Length: 6449 (6.3K) [text/plain]\n",
      "Saving to: ‘labels_with_tool_class.csv’\n",
      "\n",
      "labels_with_tool_cl 100%[===================>]   6.30K  --.-KB/s    in 0.002s  \n",
      "\n",
      "2022-05-24 21:53:57 (3.29 MB/s) - ‘labels_with_tool_class.csv’ saved [6449/6449]\n",
      "\n"
     ]
    }
   ],
   "source": [
    "if folder_processed_data.exists() == False:\n",
    "\n",
    "    pathlib.Path(folder_processed_data).mkdir(parents=True, exist_ok=True)\n",
    "    os.chdir(folder_processed_data)\n",
    "    !wget 'https://raw.githubusercontent.com/tvhahn/Manufacturing-Data-Science-with-Python/master/Data%20Sets/milling_uc_berkeley/processed/labels_with_tool_class.csv'\n"
   ]
  },
  {
   "cell_type": "code",
   "execution_count": 15,
   "id": "dd6e1c78-1228-4f1e-90b6-508f1403972e",
   "metadata": {},
   "outputs": [
    {
     "name": "stdout",
     "output_type": "stream",
     "text": [
      "--2022-05-24 21:54:19--  https://raw.githubusercontent.com/tvhahn/Manufacturing-Data-Science-with-Python/master/Metal%20Machining/data_prep.py\n",
      "Resolving proxy-dmz.intel.com (proxy-dmz.intel.com)... 10.7.211.16\n",
      "Connecting to proxy-dmz.intel.com (proxy-dmz.intel.com)|10.7.211.16|:912... connected.\n",
      "Proxy request sent, awaiting response... 200 OK\n",
      "Length: 11880 (12K) [text/plain]\n",
      "Saving to: ‘data_prep.py’\n",
      "\n",
      "data_prep.py        100%[===================>]  11.60K  --.-KB/s    in 0.02s   \n",
      "\n",
      "2022-05-24 21:54:19 (685 KB/s) - ‘data_prep.py’ saved [11880/11880]\n",
      "\n"
     ]
    }
   ],
   "source": [
    "# if working folder does not exist, then create it\n",
    "pathlib.Path(working_folder).mkdir(parents=True, exist_ok=True)\n",
    "if (working_folder / 'data_prep.py').exists() == False:\n",
    "    os.chdir(working_folder)   \n",
    "    # download important python files into the 'Metal Machining' directory\n",
    "    !wget 'https://raw.githubusercontent.com/tvhahn/Manufacturing-Data-Science-with-Python/master/Metal%20Machining/data_prep.py'\n"
   ]
  },
  {
   "cell_type": "code",
   "execution_count": 16,
   "id": "669f171e-5224-437c-9376-f9e3e35b7aa8",
   "metadata": {},
   "outputs": [],
   "source": [
    "# extract mill.mat from the zip file\n",
    "with zipfile.ZipFile(folder_raw_data / 'mill.zip', 'r') as zip_ref:\n",
    "    zip_ref.extractall(folder_raw_data)"
   ]
  },
  {
   "cell_type": "code",
   "execution_count": 17,
   "id": "5558cfd7-28a9-4322-b14d-e082c968b9e7",
   "metadata": {},
   "outputs": [],
   "source": [
    "os.chdir(working_folder)"
   ]
  },
  {
   "cell_type": "code",
   "execution_count": 26,
   "id": "519151e5-6988-48b9-8d79-cb83098ee22c",
   "metadata": {},
   "outputs": [],
   "source": [
    "# load the data from the matlab file\n",
    "m = sio.loadmat(folder_raw_data / 'mill.mat',struct_as_record=True)"
   ]
  },
  {
   "cell_type": "code",
   "execution_count": 27,
   "id": "686e5754-a3d6-4f39-be44-48181804fd9f",
   "metadata": {},
   "outputs": [
    {
     "name": "stdout",
     "output_type": "stream",
     "text": [
      "Keys in the matlab dict file: \n",
      " dict_keys(['__header__', '__version__', '__globals__', 'mill']) \n",
      "\n"
     ]
    }
   ],
   "source": [
    "# show some of the info from the matlab file\n",
    "print('Keys in the matlab dict file: \\n', m.keys(), '\\n')"
   ]
  },
  {
   "cell_type": "code",
   "execution_count": 28,
   "id": "b2d21c66-4da7-41fb-b43e-9d43b06a93bb",
   "metadata": {},
   "outputs": [
    {
     "name": "stdout",
     "output_type": "stream",
     "text": [
      "<class 'numpy.ndarray'>\n"
     ]
    }
   ],
   "source": [
    "# check to see what m['mill'] is\n",
    "print(type(m['mill']))\n",
    "\n",
    "# store the 'mill' data in a seperate np array\n",
    "data = m['mill']"
   ]
  },
  {
   "cell_type": "code",
   "execution_count": 29,
   "id": "5adcd74c-f37f-48e4-8029-141dad51554a",
   "metadata": {},
   "outputs": [
    {
     "name": "stdout",
     "output_type": "stream",
     "text": [
      "List of the field names:\n",
      " ('case', 'run', 'VB', 'time', 'DOC', 'feed', 'material', 'smcAC', 'smcDC', 'vib_table', 'vib_spindle', 'AE_table', 'AE_spindle')\n"
     ]
    }
   ],
   "source": [
    "# store the field names in the data np array in a tuple, l\n",
    "fields = data.dtype.names\n",
    "print('List of the field names:\\n', fields)"
   ]
  },
  {
   "cell_type": "code",
   "execution_count": null,
   "id": "1b8a6ddb-6ce6-4109-b73b-23ef866a53c8",
   "metadata": {},
   "outputs": [],
   "source": []
  }
 ],
 "metadata": {
  "kernelspec": {
   "display_name": "Python 3 (ipykernel)",
   "language": "python",
   "name": "python3"
  },
  "language_info": {
   "codemirror_mode": {
    "name": "ipython",
    "version": 3
   },
   "file_extension": ".py",
   "mimetype": "text/x-python",
   "name": "python",
   "nbconvert_exporter": "python",
   "pygments_lexer": "ipython3",
   "version": "3.8.10"
  }
 },
 "nbformat": 4,
 "nbformat_minor": 5
}
